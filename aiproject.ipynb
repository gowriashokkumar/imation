{
 "cells": [
  {
   "cell_type": "markdown",
   "id": "79f1d77f-22f9-4db8-8295-a5a1e91ce8fb",
   "metadata": {},
   "source": [
    "# IMAGE CLASSIFICATION USING CNN"
   ]
  },
  {
   "cell_type": "code",
   "execution_count": 30,
   "id": "814f5b57-adb3-4ec3-a1cc-578c01d9dee7",
   "metadata": {},
   "outputs": [],
   "source": [
    "import tensorflow as tf\n",
    "from tensorflow.keras import datasets, layers, models\n",
    "import matplotlib.pyplot as plt\n",
    "import numpy as np"
   ]
  },
  {
   "cell_type": "markdown",
   "id": "e10da2d5-7c11-4cd3-a520-d83dfaed6ef6",
   "metadata": {},
   "source": [
    "1. COLLECT AND PREPROCESS LABELED IMAGE DATASETS FROM CIFAR-10"
   ]
  },
  {
   "cell_type": "code",
   "execution_count": 5,
   "id": "f928ffe4-2a3c-4e7c-a83e-ed04755ee7aa",
   "metadata": {},
   "outputs": [
    {
     "data": {
      "text/plain": [
       "(50000, 32, 32, 3)"
      ]
     },
     "execution_count": 5,
     "metadata": {},
     "output_type": "execute_result"
    }
   ],
   "source": [
    "(X_train, y_train), (X_test, y_test) = datasets.cifar10.load_data()\n",
    "X_train.shape"
   ]
  },
  {
   "cell_type": "code",
   "execution_count": 6,
   "id": "6468967e-009e-41bb-90b4-a2ee1b7a081a",
   "metadata": {},
   "outputs": [
    {
     "data": {
      "text/plain": [
       "(10000, 32, 32, 3)"
      ]
     },
     "execution_count": 6,
     "metadata": {},
     "output_type": "execute_result"
    }
   ],
   "source": [
    "X_test.shape"
   ]
  },
  {
   "cell_type": "code",
   "execution_count": 7,
   "id": "683d4665-d362-4134-ac06-30548d16f107",
   "metadata": {},
   "outputs": [
    {
     "data": {
      "text/plain": [
       "array([[6],\n",
       "       [9],\n",
       "       [9],\n",
       "       [4],\n",
       "       [1]], dtype=uint8)"
      ]
     },
     "execution_count": 7,
     "metadata": {},
     "output_type": "execute_result"
    }
   ],
   "source": [
    "y_train[:5]"
   ]
  },
  {
   "cell_type": "code",
   "execution_count": 8,
   "id": "8b4fd25b-8129-4dc8-9514-b0a323ec1d1c",
   "metadata": {},
   "outputs": [
    {
     "data": {
      "text/plain": [
       "array([6, 9, 9, 4, 1], dtype=uint8)"
      ]
     },
     "execution_count": 8,
     "metadata": {},
     "output_type": "execute_result"
    }
   ],
   "source": [
    "y_train = y_train.reshape(-1,)\n",
    "y_train[:5]"
   ]
  },
  {
   "cell_type": "code",
   "execution_count": 9,
   "id": "eb1b8124-299f-4c26-acf1-e9a10250bc2f",
   "metadata": {},
   "outputs": [],
   "source": [
    "y_test = y_test.reshape(-1,)"
   ]
  },
  {
   "cell_type": "markdown",
   "id": "28f82963-b4a7-48c4-886d-2cfeb0a1b1d9",
   "metadata": {},
   "source": [
    "* Dataset classes"
   ]
  },
  {
   "cell_type": "code",
   "execution_count": 10,
   "id": "bbb01a9d-76d0-4be9-9123-605cd1c02a8b",
   "metadata": {},
   "outputs": [],
   "source": [
    "classes = [\"airplane\",\"automobile\",\"bird\",\"cat\",\"deer\",\"dog\",\"frog\",\"horse\",\"ship\",\"truck\"]"
   ]
  },
  {
   "cell_type": "markdown",
   "id": "a943b60a-c4f5-46bc-9781-855ab5f91680",
   "metadata": {},
   "source": [
    "* Plot some image"
   ]
  },
  {
   "cell_type": "code",
   "execution_count": 11,
   "id": "08bc1331-f677-4d53-a3fb-ac3f503b1c61",
   "metadata": {},
   "outputs": [],
   "source": [
    "def plot_sample(X, y, index):\n",
    "    plt.figure(figsize = (15,2))\n",
    "    plt.imshow(X[index])\n",
    "    plt.xlabel(classes[y[index]])"
   ]
  },
  {
   "cell_type": "code",
   "execution_count": 12,
   "id": "ffa1f522-3a10-4bf6-91c5-c385f606e7f1",
   "metadata": {},
   "outputs": [
    {
     "data": {
      "image/png": "[encoded data removed]",
      "text/plain": [
       "<Figure size 1500x200 with 1 Axes>"
      ]
     },
     "metadata": {},
     "output_type": "display_data"
    }
   ],
   "source": [
    "plot_sample(X_train, y_train, 2)"
   ]
  },
  {
   "cell_type": "code",
   "execution_count": 13,
   "id": "b1f202e8-6228-4026-811d-be14e0629073",
   "metadata": {},
   "outputs": [
    {
     "data": {
      "image/png": "[encoded data removed]",
      "text/plain": [
       "<Figure size 1500x200 with 1 Axes>"
      ]
     },
     "metadata": {},
     "output_type": "display_data"
    }
   ],
   "source": [
    "plot_sample(X_train, y_train, 4)"
   ]
  },
  {
   "cell_type": "markdown",
   "id": "50ccd694-111b-40d8-95e6-288aa193ee9d",
   "metadata": {},
   "source": [
    "2. Normalizing the training data"
   ]
  },
  {
   "cell_type": "code",
   "execution_count": 14,
   "id": "511ca7a9-e79b-4d80-a2f4-8b2dea8ae35e",
   "metadata": {},
   "outputs": [],
   "source": [
    "X_train = X_train / 255.0\n",
    "X_test = X_test / 255.0"
   ]
  },
  {
   "cell_type": "markdown",
   "id": "3dee703a-86b7-4c5b-934c-6ba3f9a42036",
   "metadata": {},
   "source": [
    "* Build simple artificial neural network for image classification\n",
    "  * End of 5epochs, Accuracy is at around 49%"
   ]
  },
  {
   "cell_type": "code",
   "execution_count": 15,
   "id": "dafeab74-ff1a-42e6-ac5d-a95525f1bb33",
   "metadata": {},
   "outputs": [
    {
     "name": "stderr",
     "output_type": "stream",
     "text": [
      "C:\\Users\\ADMIN\\AppData\\Roaming\\Python\\Python312\\site-packages\\keras\\src\\layers\\reshaping\\flatten.py:37: UserWarning: Do not pass an `input_shape`/`input_dim` argument to a layer. When using Sequential models, prefer using an `Input(shape)` object as the first layer in the model instead.\n",
      "  super().__init__(**kwargs)\n"
     ]
    },
    {
     "name": "stdout",
     "output_type": "stream",
     "text": [
      "Epoch 1/5\n",
      "\u001b[1m1563/1563\u001b[0m \u001b[32m━━━━━━━━━━━━━━━━━━━━\u001b[0m\u001b[37m\u001b[0m \u001b[1m247s\u001b[0m 117ms/step - accuracy: 0.3057 - loss: 1.9319\n",
      "Epoch 2/5\n",
      "\u001b[1m1563/1563\u001b[0m \u001b[32m━━━━━━━━━━━━━━━━━━━━\u001b[0m\u001b[37m\u001b[0m \u001b[1m172s\u001b[0m 110ms/step - accuracy: 0.4196 - loss: 1.6457\n",
      "Epoch 3/5\n",
      "\u001b[1m1563/1563\u001b[0m \u001b[32m━━━━━━━━━━━━━━━━━━━━\u001b[0m\u001b[37m\u001b[0m \u001b[1m193s\u001b[0m 104ms/step - accuracy: 0.4558 - loss: 1.5467\n",
      "Epoch 4/5\n",
      "\u001b[1m1563/1563\u001b[0m \u001b[32m━━━━━━━━━━━━━━━━━━━━\u001b[0m\u001b[37m\u001b[0m \u001b[1m202s\u001b[0m 104ms/step - accuracy: 0.4804 - loss: 1.4844\n",
      "Epoch 5/5\n",
      "\u001b[1m1563/1563\u001b[0m \u001b[32m━━━━━━━━━━━━━━━━━━━━\u001b[0m\u001b[37m\u001b[0m \u001b[1m159s\u001b[0m 102ms/step - accuracy: 0.4941 - loss: 1.4347\n"
     ]
    },
    {
     "data": {
      "text/plain": [
       "<keras.src.callbacks.history.History at 0x225c5a617f0>"
      ]
     },
     "execution_count": 15,
     "metadata": {},
     "output_type": "execute_result"
    }
   ],
   "source": [
    "ann = models.Sequential([\n",
    "        layers.Flatten(input_shape=(32,32,3)),\n",
    "        layers.Dense(3000, activation='relu'),\n",
    "        layers.Dense(1000, activation='relu'),\n",
    "        layers.Dense(10,activation='softmax')\n",
    "])\n",
    "ann.compile(optimizer='SGD',\n",
    "               loss='sparse_categorical_crossentropy',\n",
    "               metrics=['accuracy'])\n",
    "ann.fit(X_train, y_train, epochs=5)"
   ]
  },
  {
   "cell_type": "markdown",
   "id": "99ac517e-605d-48d9-9773-b888612ea8d7",
   "metadata": {},
   "source": [
    "3. Using metrics like precision, recall, and F1-score"
   ]
  },
  {
   "cell_type": "code",
   "execution_count": 16,
   "id": "42a5730b-e05f-47d5-b662-dab8c7075047",
   "metadata": {},
   "outputs": [
    {
     "name": "stdout",
     "output_type": "stream",
     "text": [
      "\u001b[1m313/313\u001b[0m \u001b[32m━━━━━━━━━━━━━━━━━━━━\u001b[0m\u001b[37m\u001b[0m \u001b[1m13s\u001b[0m 40ms/step\n",
      "Classification Report: \n",
      "               precision    recall  f1-score   support\n",
      "\n",
      "           0       0.55      0.58      0.56      1000\n",
      "           1       0.58      0.67      0.62      1000\n",
      "           2       0.47      0.11      0.18      1000\n",
      "           3       0.42      0.20      0.27      1000\n",
      "           4       0.32      0.61      0.42      1000\n",
      "           5       0.47      0.33      0.38      1000\n",
      "           6       0.45      0.63      0.53      1000\n",
      "           7       0.66      0.43      0.52      1000\n",
      "           8       0.64      0.60      0.62      1000\n",
      "           9       0.45      0.66      0.54      1000\n",
      "\n",
      "    accuracy                           0.48     10000\n",
      "   macro avg       0.50      0.48      0.46     10000\n",
      "weighted avg       0.50      0.48      0.46     10000\n",
      "\n"
     ]
    }
   ],
   "source": [
    "from sklearn.metrics import confusion_matrix , classification_report\n",
    "import numpy as np\n",
    "y_pred = ann.predict(X_test)\n",
    "y_pred_classes = [np.argmax(element) for element in y_pred]\n",
    "\n",
    "print(\"Classification Report: \\n\", classification_report(y_test, y_pred_classes))"
   ]
  },
  {
   "cell_type": "markdown",
   "id": "efdd9646-79bf-4365-9994-762201b29406",
   "metadata": {},
   "source": [
    "4. Build a deep learning such as convolutional neural network to train our image"
   ]
  },
  {
   "cell_type": "code",
   "execution_count": 31,
   "id": "a582c057-ddf8-4f11-9cfb-755d669c3655",
   "metadata": {
    "scrolled": true
   },
   "outputs": [],
   "source": [
    "cnn = models.Sequential([\n",
    "    layers.Conv2D(filters=32, kernel_size=(3, 3), activation='relu', input_shape=(32,32,3)),\n",
    "    layers.MaxPooling2D((2, 2)),\n",
    "\n",
    "    layers.Conv2D(filters=64, kernel_size=(3, 3), activation='relu'),\n",
    "    layers.MaxPooling2D((2, 2)),\n",
    "\n",
    "    layers.Flatten(),\n",
    "    layers.Dense(64, activation='relu'),\n",
    "    layers.Dense(10, activation='softmax')\n",
    "])"
   ]
  },
  {
   "cell_type": "code",
   "execution_count": 18,
   "id": "9e374b6f-75b3-4d50-b573-21c1b94a545b",
   "metadata": {},
   "outputs": [],
   "source": [
    "cnn.compile(optimizer='adam',\n",
    "            loss='sparse_categorical_crossentropy', \n",
    "            metrics=['accuracy'])"
   ]
  },
  {
   "cell_type": "markdown",
   "id": "8c444394-9309-4b0c-867b-5ba06d8f86e2",
   "metadata": {},
   "source": [
    "with CNN, at the end 5 epochs,accuracy was at around 70% which is significant improvement over ANN.CNN's are best for image classification and gives\n",
    "superb accuracy.Also computation is much less compared to simple ANN as maxpooling reduces the image dimensions while still preserving the features."
   ]
  },
  {
   "cell_type": "code",
   "execution_count": 19,
   "id": "5ae0f49e-e17a-409d-a78d-d4cccf3863b0",
   "metadata": {},
   "outputs": [
    {
     "name": "stdout",
     "output_type": "stream",
     "text": [
      "Epoch 1/10\n",
      "\u001b[1m1563/1563\u001b[0m \u001b[32m━━━━━━━━━━━━━━━━━━━━\u001b[0m\u001b[37m\u001b[0m \u001b[1m104s\u001b[0m 49ms/step - accuracy: 0.3910 - loss: 1.6795\n",
      "Epoch 2/10\n",
      "\u001b[1m1563/1563\u001b[0m \u001b[32m━━━━━━━━━━━━━━━━━━━━\u001b[0m\u001b[37m\u001b[0m \u001b[1m76s\u001b[0m 47ms/step - accuracy: 0.6086 - loss: 1.1083\n",
      "Epoch 3/10\n",
      "\u001b[1m1563/1563\u001b[0m \u001b[32m━━━━━━━━━━━━━━━━━━━━\u001b[0m\u001b[37m\u001b[0m \u001b[1m70s\u001b[0m 45ms/step - accuracy: 0.6650 - loss: 0.9605\n",
      "Epoch 4/10\n",
      "\u001b[1m1563/1563\u001b[0m \u001b[32m━━━━━━━━━━━━━━━━━━━━\u001b[0m\u001b[37m\u001b[0m \u001b[1m88s\u001b[0m 48ms/step - accuracy: 0.6972 - loss: 0.8757\n",
      "Epoch 5/10\n",
      "\u001b[1m1563/1563\u001b[0m \u001b[32m━━━━━━━━━━━━━━━━━━━━\u001b[0m\u001b[37m\u001b[0m \u001b[1m773s\u001b[0m 495ms/step - accuracy: 0.7184 - loss: 0.8050\n",
      "Epoch 6/10\n",
      "\u001b[1m1563/1563\u001b[0m \u001b[32m━━━━━━━━━━━━━━━━━━━━\u001b[0m\u001b[37m\u001b[0m \u001b[1m165s\u001b[0m 67ms/step - accuracy: 0.7444 - loss: 0.7378\n",
      "Epoch 7/10\n",
      "\u001b[1m1563/1563\u001b[0m \u001b[32m━━━━━━━━━━━━━━━━━━━━\u001b[0m\u001b[37m\u001b[0m \u001b[1m127s\u001b[0m 57ms/step - accuracy: 0.7646 - loss: 0.6798\n",
      "Epoch 8/10\n",
      "\u001b[1m1563/1563\u001b[0m \u001b[32m━━━━━━━━━━━━━━━━━━━━\u001b[0m\u001b[37m\u001b[0m \u001b[1m147s\u001b[0m 60ms/step - accuracy: 0.7799 - loss: 0.6326\n",
      "Epoch 9/10\n",
      "\u001b[1m1563/1563\u001b[0m \u001b[32m━━━━━━━━━━━━━━━━━━━━\u001b[0m\u001b[37m\u001b[0m \u001b[1m150s\u001b[0m 65ms/step - accuracy: 0.7983 - loss: 0.5776\n",
      "Epoch 10/10\n",
      "\u001b[1m1563/1563\u001b[0m \u001b[32m━━━━━━━━━━━━━━━━━━━━\u001b[0m\u001b[37m\u001b[0m \u001b[1m123s\u001b[0m 51ms/step - accuracy: 0.8111 - loss: 0.5418\n"
     ]
    },
    {
     "data": {
      "text/plain": [
       "<keras.src.callbacks.history.History at 0x22635b68ec0>"
      ]
     },
     "execution_count": 19,
     "metadata": {},
     "output_type": "execute_result"
    }
   ],
   "source": [
    "cnn.fit(X_train, y_train, epochs=10)"
   ]
  },
  {
   "cell_type": "markdown",
   "id": "1dbf0ba3-fd50-44b6-b5f4-942a4778bcd0",
   "metadata": {},
   "source": [
    "5. Evaluate the Model"
   ]
  },
  {
   "cell_type": "code",
   "execution_count": 20,
   "id": "19ec8fe9-6292-4aa1-acbc-26f767b59b63",
   "metadata": {},
   "outputs": [
    {
     "name": "stdout",
     "output_type": "stream",
     "text": [
      "\u001b[1m313/313\u001b[0m \u001b[32m━━━━━━━━━━━━━━━━━━━━\u001b[0m\u001b[37m\u001b[0m \u001b[1m8s\u001b[0m 18ms/step - accuracy: 0.7082 - loss: 0.9227\n"
     ]
    },
    {
     "data": {
      "text/plain": [
       "[0.930763840675354, 0.7049999833106995]"
      ]
     },
     "execution_count": 20,
     "metadata": {},
     "output_type": "execute_result"
    }
   ],
   "source": [
    "cnn.evaluate(X_test,y_test)"
   ]
  },
  {
   "cell_type": "code",
   "execution_count": 21,
   "id": "aacadce0-9d85-4c87-a82f-59bcedfc1299",
   "metadata": {},
   "outputs": [
    {
     "name": "stdout",
     "output_type": "stream",
     "text": [
      "\u001b[1m313/313\u001b[0m \u001b[32m━━━━━━━━━━━━━━━━━━━━\u001b[0m\u001b[37m\u001b[0m \u001b[1m6s\u001b[0m 18ms/step\n"
     ]
    },
    {
     "data": {
      "text/plain": [
       "array([[3.25978617e-03, 8.17536027e-04, 6.30598573e-04, 9.10307348e-01,\n",
       "        5.15287800e-04, 3.26604322e-02, 4.97577861e-02, 4.33704699e-04,\n",
       "        1.12312741e-03, 4.94336069e-04],\n",
       "       [1.00846330e-04, 2.73975241e-03, 5.17409715e-09, 6.08027477e-08,\n",
       "        2.76181245e-10, 8.09897548e-12, 5.09937925e-10, 2.31461400e-12,\n",
       "        9.97067273e-01, 9.21550090e-05],\n",
       "       [9.27672014e-02, 3.62148769e-02, 4.60296840e-04, 2.91432487e-03,\n",
       "        2.35433166e-04, 2.49941240e-05, 1.57195595e-04, 2.14716070e-04,\n",
       "        8.53828311e-01, 1.31825591e-02],\n",
       "       [9.66988623e-01, 5.06144599e-04, 3.71337926e-04, 1.90482915e-05,\n",
       "        3.06626840e-04, 4.25639328e-08, 9.85747192e-06, 7.92348317e-07,\n",
       "        3.17885950e-02, 8.99949919e-06],\n",
       "       [2.41752400e-06, 3.69805675e-05, 8.17013090e-04, 5.53836860e-02,\n",
       "        2.65950739e-01, 8.68548872e-04, 6.76833391e-01, 1.07761934e-07,\n",
       "        8.92304452e-05, 1.78847313e-05]], dtype=float32)"
      ]
     },
     "execution_count": 21,
     "metadata": {},
     "output_type": "execute_result"
    }
   ],
   "source": [
    "y_pred = cnn.predict(X_test)\n",
    "y_pred[:5]"
   ]
  },
  {
   "cell_type": "code",
   "execution_count": 33,
   "id": "c8f7e59c-a3ee-4503-87df-fa39d517a5ba",
   "metadata": {},
   "outputs": [
    {
     "data": {
      "text/plain": [
       "[3, 8, 8, 0, 6]"
      ]
     },
     "execution_count": 33,
     "metadata": {},
     "output_type": "execute_result"
    }
   ],
   "source": [
    "y_classes = [np.argmax(element) for element in y_pred]\n",
    "y_classes[:5]"
   ]
  },
  {
   "cell_type": "code",
   "execution_count": 23,
   "id": "bc1cb0f1-6f11-455d-99ba-9cb349d6816c",
   "metadata": {},
   "outputs": [
    {
     "data": {
      "text/plain": [
       "array([3, 8, 8, 0, 6], dtype=uint8)"
      ]
     },
     "execution_count": 23,
     "metadata": {},
     "output_type": "execute_result"
    }
   ],
   "source": [
    "y_test[:5]"
   ]
  },
  {
   "cell_type": "code",
   "execution_count": 24,
   "id": "30051226-f974-47d0-9c94-cfdc827b1a22",
   "metadata": {},
   "outputs": [
    {
     "data": {
      "image/png": "[encoded data removed]",
      "text/plain": [
       "<Figure size 1500x200 with 1 Axes>"
      ]
     },
     "metadata": {},
     "output_type": "display_data"
    }
   ],
   "source": [
    "plot_sample(X_test, y_test,3)"
   ]
  },
  {
   "cell_type": "code",
   "execution_count": 32,
   "id": "38d97193-e089-4a24-8b08-407e27e904ab",
   "metadata": {},
   "outputs": [
    {
     "data": {
      "text/plain": [
       "'ship'"
      ]
     },
     "execution_count": 32,
     "metadata": {},
     "output_type": "execute_result"
    }
   ],
   "source": [
    "classes[y_classes[2]]"
   ]
  },
  {
   "cell_type": "code",
   "execution_count": 26,
   "id": "5da455d8-b8fb-4ad9-990f-1c3a8f908c4a",
   "metadata": {},
   "outputs": [
    {
     "data": {
      "text/plain": [
       "'frog'"
      ]
     },
     "execution_count": 26,
     "metadata": {},
     "output_type": "execute_result"
    }
   ],
   "source": [
    "classes[y_classes[7]]"
   ]
  },
  {
   "cell_type": "code",
   "execution_count": 27,
   "id": "417a82d5-df58-43f9-8d00-ad320c24e5e1",
   "metadata": {},
   "outputs": [
    {
     "data": {
      "text/plain": [
       "'airplane'"
      ]
     },
     "execution_count": 27,
     "metadata": {},
     "output_type": "execute_result"
    }
   ],
   "source": [
    "classes[y_classes[3]]"
   ]
  }
 ],
 "metadata": {
  "kernelspec": {
   "display_name": "Python 3 (ipykernel)",
   "language": "python",
   "name": "python3"
  },
  "language_info": {
   "codemirror_mode": {
    "name": "ipython",
    "version": 3
   },
   "file_extension": ".py",
   "mimetype": "text/x-python",
   "name": "python",
   "nbconvert_exporter": "python",
   "pygments_lexer": "ipython3",
   "version": "3.12.2"
  }
 },
 "nbformat": 4,
 "nbformat_minor": 5
}
